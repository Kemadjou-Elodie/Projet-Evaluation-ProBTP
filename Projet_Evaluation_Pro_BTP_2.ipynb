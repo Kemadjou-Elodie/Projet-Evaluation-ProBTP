{
  "nbformat": 4,
  "nbformat_minor": 0,
  "metadata": {
    "colab": {
      "name": "Projet_Evaluation_Pro-BTP-2.ipynb",
      "provenance": []
    },
    "kernelspec": {
      "name": "python3",
      "display_name": "Python 3"
    }
  },
  "cells": [
    {
      "cell_type": "markdown",
      "metadata": {
        "id": "vjm29m3JX-mV",
        "colab_type": "text"
      },
      "source": [
        "# Projet_Evaluation_Pro-BTP - 2"
      ]
    },
    {
      "cell_type": "markdown",
      "metadata": {
        "id": "IkHeK5CCYbG0",
        "colab_type": "text"
      },
      "source": [
        "## Ce projet consiste à réaliser les tâches sur le jeu de données Open data de la SNCF téléchargeable à l'adresse suivante :\n",
        "\n",
        "https://data.iledefrance-mobilites.fr/explore/dataset/validations-sur-le-reseau-ferre-nombre-de-validations-par-jour-1er-sem/table/"
      ]
    },
    {
      "cell_type": "markdown",
      "metadata": {
        "id": "mFLUgIl_YlZh",
        "colab_type": "text"
      },
      "source": [
        "## Dans ce notebook, nous allons : \n",
        "\n",
        "\n",
        "\n",
        "1.   Présenter une classification des arrêts en vous basant sur le nombre de validations par catégorie de titre\n",
        "\n",
        "\n"
      ]
    },
    {
      "cell_type": "code",
      "metadata": {
        "id": "TlATBMZCDXMh",
        "colab_type": "code",
        "colab": {
          "base_uri": "https://localhost:8080/",
          "height": 74
        },
        "outputId": "438dfd03-d97b-4b8d-b7d7-39b24548d6d6"
      },
      "source": [
        "### Import librairie\n",
        "import numpy as np # linear algebra\n",
        "import pandas as pd # data processing, CSV file I/O (e.g. pd.read_csv)\n",
        "import seaborn as sns\n",
        "import matplotlib.pyplot as plt\n",
        "\n",
        "## Import dataset\n",
        "data = pd.read_csv('/validations-sur-le-reseau-ferre-nombre-de-validations-par-jour-1er-sem.csv' , encoding = \"ISO-8859-1\" , sep = \";\")\n",
        "data.dropna(axis = 0, inplace = True)\n",
        "\n",
        "## Transforme le type de \"JOUR\" as datetime\n",
        "data['JOUR'] = pd.to_datetime(data['JOUR'], infer_datetime_format = True)\n",
        "data['CATEGORIE_TITRE'].replace(['?'], 'TITRE INCONNU', inplace=True)\n",
        "\n",
        "## Suppression des données manquentes\n",
        "data.dropna(axis = 0, inplace = True)"
      ],
      "execution_count": 1,
      "outputs": [
        {
          "output_type": "stream",
          "text": [
            "/usr/local/lib/python3.6/dist-packages/statsmodels/tools/_testing.py:19: FutureWarning: pandas.util.testing is deprecated. Use the functions in the public API at pandas.testing instead.\n",
            "  import pandas.util.testing as tm\n"
          ],
          "name": "stderr"
        }
      ]
    },
    {
      "cell_type": "code",
      "metadata": {
        "id": "85r34kI2ZVoi",
        "colab_type": "code",
        "colab": {}
      },
      "source": [
        "data['NB_VALD'].replace(['Moins de 5'], '4', inplace=True)\n",
        "\n",
        "data['NB_VALD'] = data['NB_VALD'].astype(int)"
      ],
      "execution_count": 2,
      "outputs": []
    },
    {
      "cell_type": "code",
      "metadata": {
        "id": "ihvUuuxvFGG7",
        "colab_type": "code",
        "colab": {}
      },
      "source": [
        "data = data.drop(['JOUR', 'CODE_STIF_TRNS','CODE_STIF_RES','CODE_STIF_ARRET','ID_REFA_LDA'], axis = 1)"
      ],
      "execution_count": 3,
      "outputs": []
    },
    {
      "cell_type": "code",
      "metadata": {
        "id": "J1TF_QJvbafY",
        "colab_type": "code",
        "colab": {
          "base_uri": "https://localhost:8080/",
          "height": 201
        },
        "outputId": "9924bee5-6492-4df2-b64e-97b5e3cb417d"
      },
      "source": [
        "data.info()"
      ],
      "execution_count": 4,
      "outputs": [
        {
          "output_type": "stream",
          "text": [
            "<class 'pandas.core.frame.DataFrame'>\n",
            "Int64Index: 430849 entries, 0 to 436348\n",
            "Data columns (total 3 columns):\n",
            " #   Column           Non-Null Count   Dtype \n",
            "---  ------           --------------   ----- \n",
            " 0   LIBELLE_ARRET    430849 non-null  object\n",
            " 1   CATEGORIE_TITRE  430849 non-null  object\n",
            " 2   NB_VALD          430849 non-null  int64 \n",
            "dtypes: int64(1), object(2)\n",
            "memory usage: 13.1+ MB\n"
          ],
          "name": "stdout"
        }
      ]
    },
    {
      "cell_type": "code",
      "metadata": {
        "id": "mlRxoOe9wlzX",
        "colab_type": "code",
        "colab": {}
      },
      "source": [
        "data = data [[\"NB_VALD\",\"CATEGORIE_TITRE\",\"LIBELLE_ARRET\"]]"
      ],
      "execution_count": 5,
      "outputs": []
    },
    {
      "cell_type": "code",
      "metadata": {
        "id": "whbi6CEWw4Ma",
        "colab_type": "code",
        "colab": {}
      },
      "source": [
        "# On recode toutes les variables, sauf la cible \"groupe\"\n",
        "#Libelle_arret_Dummy = pd.get_dummies(data['LIBELLE_ARRET'])\n",
        "CATEGORIE_TITRE_Dummy = pd.get_dummies(data['CATEGORIE_TITRE'])\n",
        "\n",
        "\n",
        "data_Bis = pd.concat((data,CATEGORIE_TITRE_Dummy), axis =1)\n",
        "data_Bis = data_Bis.drop(['CATEGORIE_TITRE'],axis = 1)\n"
      ],
      "execution_count": 6,
      "outputs": []
    },
    {
      "cell_type": "code",
      "metadata": {
        "id": "49vL7OEky1ov",
        "colab_type": "code",
        "colab": {
          "base_uri": "https://localhost:8080/",
          "height": 476
        },
        "outputId": "29808994-f631-42cf-fc94-c48a58073c47"
      },
      "source": [
        "df = pd.DataFrame(data_Bis)\n",
        "\n",
        "cols = list(df)\n",
        "cols[1], cols[10] = cols[10], cols[1]\n",
        "#cols\n",
        "df = df[cols]\n",
        "\n",
        "\n",
        "df"
      ],
      "execution_count": 7,
      "outputs": [
        {
          "output_type": "execute_result",
          "data": {
            "text/html": [
              "<div>\n",
              "<style scoped>\n",
              "    .dataframe tbody tr th:only-of-type {\n",
              "        vertical-align: middle;\n",
              "    }\n",
              "\n",
              "    .dataframe tbody tr th {\n",
              "        vertical-align: top;\n",
              "    }\n",
              "\n",
              "    .dataframe thead th {\n",
              "        text-align: right;\n",
              "    }\n",
              "</style>\n",
              "<table border=\"1\" class=\"dataframe\">\n",
              "  <thead>\n",
              "    <tr style=\"text-align: right;\">\n",
              "      <th></th>\n",
              "      <th>NB_VALD</th>\n",
              "      <th>TST</th>\n",
              "      <th>AMETHYSTE</th>\n",
              "      <th>AUTRE TITRE</th>\n",
              "      <th>FGT</th>\n",
              "      <th>IMAGINE R</th>\n",
              "      <th>NAVIGO</th>\n",
              "      <th>NAVIGO JOUR</th>\n",
              "      <th>NON DEFINI</th>\n",
              "      <th>TITRE INCONNU</th>\n",
              "      <th>LIBELLE_ARRET</th>\n",
              "    </tr>\n",
              "  </thead>\n",
              "  <tbody>\n",
              "    <tr>\n",
              "      <th>0</th>\n",
              "      <td>5</td>\n",
              "      <td>0</td>\n",
              "      <td>0</td>\n",
              "      <td>1</td>\n",
              "      <td>0</td>\n",
              "      <td>0</td>\n",
              "      <td>0</td>\n",
              "      <td>0</td>\n",
              "      <td>0</td>\n",
              "      <td>0</td>\n",
              "      <td>PLAISIR-GRIGNON</td>\n",
              "    </tr>\n",
              "    <tr>\n",
              "      <th>1</th>\n",
              "      <td>953</td>\n",
              "      <td>0</td>\n",
              "      <td>0</td>\n",
              "      <td>0</td>\n",
              "      <td>0</td>\n",
              "      <td>0</td>\n",
              "      <td>1</td>\n",
              "      <td>0</td>\n",
              "      <td>0</td>\n",
              "      <td>0</td>\n",
              "      <td>PLAISIR-LES-CLAYES</td>\n",
              "    </tr>\n",
              "    <tr>\n",
              "      <th>2</th>\n",
              "      <td>111</td>\n",
              "      <td>0</td>\n",
              "      <td>0</td>\n",
              "      <td>0</td>\n",
              "      <td>0</td>\n",
              "      <td>0</td>\n",
              "      <td>0</td>\n",
              "      <td>0</td>\n",
              "      <td>0</td>\n",
              "      <td>1</td>\n",
              "      <td>RAMBOUILLET</td>\n",
              "    </tr>\n",
              "    <tr>\n",
              "      <th>3</th>\n",
              "      <td>1552</td>\n",
              "      <td>0</td>\n",
              "      <td>0</td>\n",
              "      <td>0</td>\n",
              "      <td>0</td>\n",
              "      <td>1</td>\n",
              "      <td>0</td>\n",
              "      <td>0</td>\n",
              "      <td>0</td>\n",
              "      <td>0</td>\n",
              "      <td>RAMBOUILLET</td>\n",
              "    </tr>\n",
              "    <tr>\n",
              "      <th>4</th>\n",
              "      <td>1145</td>\n",
              "      <td>0</td>\n",
              "      <td>0</td>\n",
              "      <td>0</td>\n",
              "      <td>0</td>\n",
              "      <td>0</td>\n",
              "      <td>1</td>\n",
              "      <td>0</td>\n",
              "      <td>0</td>\n",
              "      <td>0</td>\n",
              "      <td>SEVRES RIVE GAUCHE</td>\n",
              "    </tr>\n",
              "    <tr>\n",
              "      <th>...</th>\n",
              "      <td>...</td>\n",
              "      <td>...</td>\n",
              "      <td>...</td>\n",
              "      <td>...</td>\n",
              "      <td>...</td>\n",
              "      <td>...</td>\n",
              "      <td>...</td>\n",
              "      <td>...</td>\n",
              "      <td>...</td>\n",
              "      <td>...</td>\n",
              "      <td>...</td>\n",
              "    </tr>\n",
              "    <tr>\n",
              "      <th>436344</th>\n",
              "      <td>110</td>\n",
              "      <td>0</td>\n",
              "      <td>0</td>\n",
              "      <td>0</td>\n",
              "      <td>0</td>\n",
              "      <td>0</td>\n",
              "      <td>0</td>\n",
              "      <td>0</td>\n",
              "      <td>0</td>\n",
              "      <td>1</td>\n",
              "      <td>CRETEIL-P. LAC</td>\n",
              "    </tr>\n",
              "    <tr>\n",
              "      <th>436345</th>\n",
              "      <td>19319</td>\n",
              "      <td>0</td>\n",
              "      <td>0</td>\n",
              "      <td>0</td>\n",
              "      <td>0</td>\n",
              "      <td>0</td>\n",
              "      <td>1</td>\n",
              "      <td>0</td>\n",
              "      <td>0</td>\n",
              "      <td>0</td>\n",
              "      <td>ODEON</td>\n",
              "    </tr>\n",
              "    <tr>\n",
              "      <th>436346</th>\n",
              "      <td>4</td>\n",
              "      <td>0</td>\n",
              "      <td>1</td>\n",
              "      <td>0</td>\n",
              "      <td>0</td>\n",
              "      <td>0</td>\n",
              "      <td>0</td>\n",
              "      <td>0</td>\n",
              "      <td>0</td>\n",
              "      <td>0</td>\n",
              "      <td>GARANCIERES-LA QUEUE</td>\n",
              "    </tr>\n",
              "    <tr>\n",
              "      <th>436347</th>\n",
              "      <td>65</td>\n",
              "      <td>0</td>\n",
              "      <td>0</td>\n",
              "      <td>0</td>\n",
              "      <td>1</td>\n",
              "      <td>0</td>\n",
              "      <td>0</td>\n",
              "      <td>0</td>\n",
              "      <td>0</td>\n",
              "      <td>0</td>\n",
              "      <td>SULLY-MORLAND</td>\n",
              "    </tr>\n",
              "    <tr>\n",
              "      <th>436348</th>\n",
              "      <td>5860</td>\n",
              "      <td>0</td>\n",
              "      <td>0</td>\n",
              "      <td>0</td>\n",
              "      <td>0</td>\n",
              "      <td>0</td>\n",
              "      <td>1</td>\n",
              "      <td>0</td>\n",
              "      <td>0</td>\n",
              "      <td>0</td>\n",
              "      <td>LIBERTE</td>\n",
              "    </tr>\n",
              "  </tbody>\n",
              "</table>\n",
              "<p>430849 rows × 11 columns</p>\n",
              "</div>"
            ],
            "text/plain": [
              "        NB_VALD  TST  ...  TITRE INCONNU         LIBELLE_ARRET\n",
              "0             5    0  ...              0       PLAISIR-GRIGNON\n",
              "1           953    0  ...              0    PLAISIR-LES-CLAYES\n",
              "2           111    0  ...              1           RAMBOUILLET\n",
              "3          1552    0  ...              0           RAMBOUILLET\n",
              "4          1145    0  ...              0    SEVRES RIVE GAUCHE\n",
              "...         ...  ...  ...            ...                   ...\n",
              "436344      110    0  ...              1        CRETEIL-P. LAC\n",
              "436345    19319    0  ...              0                 ODEON\n",
              "436346        4    0  ...              0  GARANCIERES-LA QUEUE\n",
              "436347       65    0  ...              0         SULLY-MORLAND\n",
              "436348     5860    0  ...              0               LIBERTE\n",
              "\n",
              "[430849 rows x 11 columns]"
            ]
          },
          "metadata": {
            "tags": []
          },
          "execution_count": 7
        }
      ]
    },
    {
      "cell_type": "code",
      "metadata": {
        "id": "FDm7S6BqctU3",
        "colab_type": "code",
        "colab": {}
      },
      "source": [
        "from sklearn.model_selection import train_test_split\n",
        "dfTrain, dfTest = train_test_split(df,test_size=0.2,random_state=42,stratify=df.LIBELLE_ARRET)"
      ],
      "execution_count": 8,
      "outputs": []
    },
    {
      "cell_type": "code",
      "metadata": {
        "id": "XvKZbMQmdMD_",
        "colab_type": "code",
        "colab": {}
      },
      "source": [
        "#instanciation de l'arbrefrom sklearn.tree import DecisionTreeClassifier\n",
        "from sklearn.tree import DecisionTreeClassifier\n",
        "arbreFirst = DecisionTreeClassifier(max_depth = 3)"
      ],
      "execution_count": 9,
      "outputs": []
    },
    {
      "cell_type": "code",
      "metadata": {
        "id": "Bzeoxfy2dfMN",
        "colab_type": "code",
        "colab": {
          "base_uri": "https://localhost:8080/",
          "height": 127
        },
        "outputId": "d8decfee-db96-4cc1-9784-3c29ce8aaaf3"
      },
      "source": [
        "#construction de l'arbre\n",
        "arbreFirst.fit(X = dfTrain.iloc[:,:-1], y = dfTrain.LIBELLE_ARRET)"
      ],
      "execution_count": 10,
      "outputs": [
        {
          "output_type": "execute_result",
          "data": {
            "text/plain": [
              "DecisionTreeClassifier(ccp_alpha=0.0, class_weight=None, criterion='gini',\n",
              "                       max_depth=3, max_features=None, max_leaf_nodes=None,\n",
              "                       min_impurity_decrease=0.0, min_impurity_split=None,\n",
              "                       min_samples_leaf=1, min_samples_split=2,\n",
              "                       min_weight_fraction_leaf=0.0, presort='deprecated',\n",
              "                       random_state=None, splitter='best')"
            ]
          },
          "metadata": {
            "tags": []
          },
          "execution_count": 10
        }
      ]
    },
    {
      "cell_type": "code",
      "metadata": {
        "id": "-qOA3RezeXGj",
        "colab_type": "code",
        "colab": {
          "base_uri": "https://localhost:8080/",
          "height": 219
        },
        "outputId": "8796ac49-9fd3-447b-dcab-5ac25e494e21"
      },
      "source": [
        "impVarFirst={\"Variable\":df.columns[:-1],\"Importance\":arbreFirst.feature_importances_}\n",
        "print(pd.DataFrame(impVarFirst).sort_values(by=\"Importance\",ascending=False))"
      ],
      "execution_count": 12,
      "outputs": [
        {
          "output_type": "stream",
          "text": [
            "        Variable  Importance\n",
            "0        NB_VALD    0.521397\n",
            "7    NAVIGO JOUR    0.246574\n",
            "9  TITRE INCONNU    0.116484\n",
            "5      IMAGINE R    0.115545\n",
            "1            TST    0.000000\n",
            "2      AMETHYSTE    0.000000\n",
            "3    AUTRE TITRE    0.000000\n",
            "4            FGT    0.000000\n",
            "6         NAVIGO    0.000000\n",
            "8     NON DEFINI    0.000000\n"
          ],
          "name": "stdout"
        }
      ]
    },
    {
      "cell_type": "code",
      "metadata": {
        "id": "JWnklgIR8JD0",
        "colab_type": "code",
        "colab": {
          "base_uri": "https://localhost:8080/",
          "height": 662
        },
        "outputId": "609125c2-7a17-4285-c548-70f2d2aaea83"
      },
      "source": [
        "#importance par ordre\n",
        "importances = arbreFirst.feature_importances_\n",
        "indices = np.argsort(importances)[::-1]\n",
        "indices=indices[0:20]  #représentation des 20 variables les plus importants\n",
        "features = df.columns[0:64]\n",
        "plt.figure(1)\n",
        "plt.title('Importances des variables')\n",
        "plt.barh(range(len(indices)), importances[indices], color='b', align='edge')\n",
        "plt.xlabel('Importance Relative')\n",
        "plt.yticks(range(len(indices)), features[indices])"
      ],
      "execution_count": 21,
      "outputs": [
        {
          "output_type": "execute_result",
          "data": {
            "text/plain": [
              "([<matplotlib.axis.YTick at 0x7fe2e96fe5f8>,\n",
              "  <matplotlib.axis.YTick at 0x7fe2e96fdf98>,\n",
              "  <matplotlib.axis.YTick at 0x7fe2e96f97f0>,\n",
              "  <matplotlib.axis.YTick at 0x7fe2e9697be0>,\n",
              "  <matplotlib.axis.YTick at 0x7fe2e96c14a8>,\n",
              "  <matplotlib.axis.YTick at 0x7fe2e96c1940>,\n",
              "  <matplotlib.axis.YTick at 0x7fe2e96c1dd8>,\n",
              "  <matplotlib.axis.YTick at 0x7fe2e96c92b0>,\n",
              "  <matplotlib.axis.YTick at 0x7fe2e96c9748>,\n",
              "  <matplotlib.axis.YTick at 0x7fe2e96c9be0>],\n",
              " [Text(0, 0, 'NB_VALD'),\n",
              "  Text(0, 0, 'NAVIGO JOUR'),\n",
              "  Text(0, 0, 'TITRE INCONNU'),\n",
              "  Text(0, 0, 'IMAGINE R'),\n",
              "  Text(0, 0, 'NON DEFINI'),\n",
              "  Text(0, 0, 'NAVIGO'),\n",
              "  Text(0, 0, 'FGT'),\n",
              "  Text(0, 0, 'AUTRE TITRE'),\n",
              "  Text(0, 0, 'AMETHYSTE'),\n",
              "  Text(0, 0, 'TST')])"
            ]
          },
          "metadata": {
            "tags": []
          },
          "execution_count": 21
        },
        {
          "output_type": "display_data",
          "data": {
            "image/png": "[encoded data removed]",
            "text/plain": [
              "<Figure size 432x288 with 1 Axes>"
            ]
          },
          "metadata": {
            "tags": [],
            "needs_background": "light"
          }
        }
      ]
    },
    {
      "cell_type": "code",
      "metadata": {
        "id": "h1y0VvYIf5KG",
        "colab_type": "code",
        "colab": {
          "base_uri": "https://localhost:8080/",
          "height": 72
        },
        "outputId": "d8493fc1-0587-4c73-ace1-41d4a4af638f"
      },
      "source": [
        "#prédiction sur l'échantillon test\n",
        "predFirst = arbreFirst.predict(X=dfTest.iloc[:,:-1])\n",
        "#distribution des predictions\n",
        "import numpy\n",
        "print(numpy.unique(predFirst,return_counts=True))"
      ],
      "execution_count": 13,
      "outputs": [
        {
          "output_type": "stream",
          "text": [
            "(array(['CHATELET-LES HALLES', \"GARE DE L'EST\", 'JAVEL',\n",
            "       'LA DEFENSE-GRANDE ARCHE', 'MASSY-VERRIERES', 'PORTE MAILLOT'],\n",
            "      dtype=object), array([    8,   305, 22611, 35393, 19729,  8124]))\n"
          ],
          "name": "stdout"
        }
      ]
    },
    {
      "cell_type": "code",
      "metadata": {
        "id": "LClk7M1lgPKv",
        "colab_type": "code",
        "colab": {
          "base_uri": "https://localhost:8080/",
          "height": 35
        },
        "outputId": "dd7eb840-91a0-4ed9-9d05-180b20b37cb5"
      },
      "source": [
        "#taux de reconnaissance\n",
        "from sklearn import metrics\n",
        "print(metrics.accuracy_score(dfTest.LIBELLE_ARRET,predFirst))"
      ],
      "execution_count": 14,
      "outputs": [
        {
          "output_type": "stream",
          "text": [
            "0.006417546709991877\n"
          ],
          "name": "stdout"
        }
      ]
    },
    {
      "cell_type": "code",
      "metadata": {
        "id": "iRbjYf7UhsKC",
        "colab_type": "code",
        "colab": {
          "base_uri": "https://localhost:8080/",
          "height": 35
        },
        "outputId": "bc7c558f-72ee-4e1c-86ef-1f7f9a5b30d6"
      },
      "source": [
        "#taux d'erreur\n",
        "print(1.0 -metrics.accuracy_score(dfTest.LIBELLE_ARRET,predFirst))"
      ],
      "execution_count": 15,
      "outputs": [
        {
          "output_type": "stream",
          "text": [
            "0.9935824532900082\n"
          ],
          "name": "stdout"
        }
      ]
    },
    {
      "cell_type": "code",
      "metadata": {
        "id": "LbOhaDjnoV2v",
        "colab_type": "code",
        "colab": {}
      },
      "source": [
        ""
      ],
      "execution_count": null,
      "outputs": []
    }
  ]
}